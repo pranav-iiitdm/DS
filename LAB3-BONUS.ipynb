{
 "cells": [
  {
   "cell_type": "code",
   "execution_count": 4,
   "id": "eb00b0dc",
   "metadata": {},
   "outputs": [
    {
     "name": "stdout",
     "output_type": "stream",
     "text": [
      "Enter the pan number : ABCDE1234E\n",
      "ABCDE1234E is a valid PAN number.\n"
     ]
    }
   ],
   "source": [
    "def is_valid_pan(pan_number):\n",
    "\n",
    "    if len(pan_number) != 10:\n",
    "        return False\n",
    "    \n",
    "    for char in pan_number[:5]:\n",
    "        if not char.isalpha() or not char.isupper():\n",
    "            return False\n",
    "    \n",
    "    for char in pan_number[5:9]:\n",
    "        if not char.isdigit():\n",
    "            return False\n",
    "    \n",
    "    if not pan_number[9].isalpha() or not pan_number[9].isupper():\n",
    "        return False\n",
    "    \n",
    "    return True\n",
    "\n",
    "\n",
    "pan_number = input(\"Enter the pan number : \")\n",
    "\n",
    "if is_valid_pan(pan_number):\n",
    "    print(f\"{pan_number} is a valid PAN number.\")\n",
    "else:\n",
    "    print(f\"{pan_number} is not a valid PAN number.\")\n"
   ]
  },
  {
   "cell_type": "code",
   "execution_count": 8,
   "id": "cc96fc7b",
   "metadata": {},
   "outputs": [
    {
     "name": "stdout",
     "output_type": "stream",
     "text": [
      "Enter the string to be encrypted : python\n",
      "Enter the key : 3\n",
      "Original Text: python\n",
      "Encrypted Text: swkrq\n"
     ]
    }
   ],
   "source": [
    "def caesar_cipher_encrypt(text, key):\n",
    "    encrypted_text = \"\"\n",
    "    for i in range(len(text)):\n",
    "        k = ord(text[i]) + key\n",
    "\n",
    "        if k>122:\n",
    "            k = k-26\n",
    "            encypted_text = encrypted_text + chr(k)\n",
    "        elif k>90 and k<97:\n",
    "            k = k-26\n",
    "            encrypted_text = encrypted_text + chr(k)\n",
    "        else:\n",
    "            encrypted_text = encrypted_text + chr(k)\n",
    "    \n",
    "    return encrypted_text\n",
    "\n",
    "\n",
    "original_text = input(\"Enter the string to be encrypted : \")\n",
    "key = int(input(\"Enter the key : \"))\n",
    "encrypted_text = caesar_cipher_encrypt(original_text, key)\n",
    "print(f\"Original Text: {original_text}\")\n",
    "print(f\"Encrypted Text: {encrypted_text}\")\n"
   ]
  }
 ],
 "metadata": {
  "kernelspec": {
   "display_name": "Python 3 (ipykernel)",
   "language": "python",
   "name": "python3"
  },
  "language_info": {
   "codemirror_mode": {
    "name": "ipython",
    "version": 3
   },
   "file_extension": ".py",
   "mimetype": "text/x-python",
   "name": "python",
   "nbconvert_exporter": "python",
   "pygments_lexer": "ipython3",
   "version": "3.9.12"
  }
 },
 "nbformat": 4,
 "nbformat_minor": 5
}
