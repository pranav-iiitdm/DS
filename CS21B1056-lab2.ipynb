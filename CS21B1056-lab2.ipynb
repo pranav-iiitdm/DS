{
 "cells": [
  {
   "cell_type": "code",
   "execution_count": 34,
   "id": "29f339c3",
   "metadata": {},
   "outputs": [
    {
     "name": "stdout",
     "output_type": "stream",
     "text": [
      "Enter the age of Ram : 1\n",
      "Enter the age of Shyam : 2\n",
      "Enter the age of Ajay : 1\n",
      "Ram and Ajay are both of same age and youngest\n"
     ]
    }
   ],
   "source": [
    "ram = int(input(\"Enter the age of Ram : \"))\n",
    "shyam = int(input(\"Enter the age of Shyam : \"))\n",
    "ajay = int(input(\"Enter the age of Ajay : \"))\n",
    "\n",
    "if ram == shyam and shyam == ajay:\n",
    "    print(\"Ages of all the three are same\")    \n",
    "elif ram <= shyam:\n",
    "    if ram < ajay:\n",
    "        if ram == shyam:\n",
    "            print(\"Ram and Shyam are both of same age and youngest\")\n",
    "        else:\n",
    "            print(\"Ram is youngest of three\")\n",
    "    else:\n",
    "        if ram == ajay:\n",
    "            print(\"Ram and Ajay are both of same age and youngest\")\n",
    "        else:\n",
    "            print(\"Ajay is youngest of three\")\n",
    "else:\n",
    "    if shyam == ajay:\n",
    "        print(\"Shyam and Ajay are both of same age and youngest\")\n",
    "    elif shyam < ajay:\n",
    "        print(\"Shyam is youngest of three\")\n",
    "    else:\n",
    "        print(\"Ajay is youngest of three\")"
   ]
  },
  {
   "cell_type": "code",
   "execution_count": 5,
   "id": "8c963a3c",
   "metadata": {},
   "outputs": [
    {
     "name": "stdout",
     "output_type": "stream",
     "text": [
      "Enter the percentage obtained : 1000\n",
      "Percentage Out of Range\n"
     ]
    }
   ],
   "source": [
    "grade = float(input(\"Enter the percentage obtained : \"))\n",
    "\n",
    "if(grade >= 0 and grade <= 100):  \n",
    "    if grade >= 90 and grade <= 100:\n",
    "        print(\"Grade - A\")\n",
    "    elif grade >= 80 and grade <= 89:\n",
    "        print(\"Grade - B\")\n",
    "    elif grade >= 70 and grade <= 79:\n",
    "        print(\"Grade - C\")\n",
    "    elif grade >= 60 and grade <= 69:\n",
    "        print(\"Grade - D\")\n",
    "    else:\n",
    "        print(\"Grade - F\")\n",
    "else:\n",
    "    print(\"Percentage Out of Range\")"
   ]
  },
  {
   "cell_type": "code",
   "execution_count": 25,
   "id": "273cd28e",
   "metadata": {},
   "outputs": [
    {
     "name": "stdout",
     "output_type": "stream",
     "text": [
      "Enter a 5 digit Number : 12345\n",
      "54321\n",
      "Entered number and Reversed number are not same\n"
     ]
    }
   ],
   "source": [
    "num = int(input(\"Enter a 5 digit Number : \"))\n",
    "n = num\n",
    "rev = 0\n",
    "i=0\n",
    "\n",
    "while num != 0:\n",
    "    k = num % 10\n",
    "    rev = rev*10 + k\n",
    "    num = num//10\n",
    "    i += 1\n",
    "\n",
    "if i == 5:    \n",
    "    print(rev)\n",
    "    if rev == n:\n",
    "        print(\"Entered number and Reversed number are same\")\n",
    "    else:\n",
    "        print(\"Entered number and Reversed number are not same\")\n",
    "else:\n",
    "    print(\"Entered number is not a 5 digit number\")"
   ]
  },
  {
   "cell_type": "code",
   "execution_count": 28,
   "id": "50c124df",
   "metadata": {},
   "outputs": [
    {
     "name": "stdout",
     "output_type": "stream",
     "text": [
      "Enter the Hardness of the steel : 100\n",
      "Enter the Carbon Content of the steel : 1\n",
      "Enter the tensile strength of the steel : 1\n",
      "Grade is 6\n"
     ]
    }
   ],
   "source": [
    "hardness = float(input(\"Enter the Hardness of the steel : \"))\n",
    "carbon_content = float(input(\"Enter the Carbon Content of the steel : \"))\n",
    "tensile_strength = float(input(\"Enter the tensile strength of the steel : \"))\n",
    "\n",
    "if(hardness > 50 and carbon_content < 0.7 and tensile_strength > 5600):\n",
    "    print(\"Grade is 10\")\n",
    "elif(hardness > 50 and carbon_content < 0.7):\n",
    "    print(\"Grade is 9\")\n",
    "elif(carbon_content < 0.7 and tensile_strength > 5600):\n",
    "    print(\"Grade is 8\")\n",
    "elif(hardness > 50 and tensile_strength > 5600):\n",
    "    print(\"Grade is 7\")\n",
    "elif(hardness > 50 or carbon_content < 0.7 or tensile_strength > 5600):\n",
    "    print(\"Grade is 6\")\n",
    "else:\n",
    "    print(\"Grade is 5\")"
   ]
  },
  {
   "cell_type": "code",
   "execution_count": 42,
   "id": "f31e0065",
   "metadata": {},
   "outputs": [
    {
     "name": "stdout",
     "output_type": "stream",
     "text": [
      "Enter the first side of the triangle : 2\n",
      "Enter the second side of the triangle : 2\n",
      "Enter the third side of the triangle : 3\n",
      "It is an Isoceles Triangle\n"
     ]
    }
   ],
   "source": [
    "a = float(input(\"Enter the first side of the triangle : \"))\n",
    "b = float(input(\"Enter the second side of the triangle : \"))\n",
    "c = float(input(\"Enter the third side of the triangle : \"))\n",
    "\n",
    "A = a**2\n",
    "B = b**2\n",
    "C = c**2\n",
    "\n",
    "if (a + b > c) and (b + c > a) and (a + c > b):\n",
    "    if a == b and a == c and b == c :\n",
    "        print(\"It is an Equilateral Triangle\")\n",
    "    elif (a == b and a != c and b!=c) or (a == c and a != b and c!=b) or (b == c and b != a and c!=a):\n",
    "        print(\"It is an Isoceles Triangle\")\n",
    "    else:\n",
    "        if A+B==C or B+C==A or C+A==B:\n",
    "            print(\"It is a Right angled Triangle\")\n",
    "else:\n",
    "    print(\"It is not a Triangle\")"
   ]
  },
  {
   "cell_type": "code",
   "execution_count": 47,
   "id": "8bc298be",
   "metadata": {},
   "outputs": [
    {
     "name": "stdout",
     "output_type": "stream",
     "text": [
      "Enter the amount in the pocket : 44\n",
      "Enter the price of each chocolate : 2\n",
      "Enter the no.of wrappers given : 4\n",
      "Total No. of chocolates :  27\n"
     ]
    }
   ],
   "source": [
    "N = int(input(\"Enter the amount in the pocket : \"))\n",
    "C = int(input(\"Enter the price of each chocolate : \"))\n",
    "M = int(input(\"Enter the no.of wrappers given : \"))\n",
    "\n",
    "total = N//C\n",
    "total += total//M\n",
    "\n",
    "print(\"Total No. of chocolates : \",total)"
   ]
  },
  {
   "cell_type": "code",
   "execution_count": 48,
   "id": "4431516f",
   "metadata": {},
   "outputs": [
    {
     "name": "stdout",
     "output_type": "stream",
     "text": [
      "Cost of Computer :  1548\n",
      "Cost of Furniture :  480\n",
      "Labour Cost :  140\n"
     ]
    }
   ],
   "source": [
    "cost_of_one_comp = 129\n",
    "no_of_comps = 12\n",
    "cost_of_table = 23\n",
    "no_of_tables = 12\n",
    "cost_of_chair = 17\n",
    "no_of_chairs = 12\n",
    "wage_per_hour = 20\n",
    "no_of_hours_worked = 7\n",
    "\n",
    "labour_cost = wage_per_hour * no_of_hours_worked\n",
    "furniture_cost = no_of_tables*cost_of_table + no_of_chairs*cost_of_chair\n",
    "comp_cost = no_of_comps*cost_of_one_comp\n",
    "\n",
    "print(\"Cost of Computer : \",comp_cost)\n",
    "print(\"Cost of Furniture : \",furniture_cost)\n",
    "print(\"Labour Cost : \",labour_cost)"
   ]
  },
  {
   "cell_type": "code",
   "execution_count": 55,
   "id": "19b4dc12",
   "metadata": {},
   "outputs": [
    {
     "name": "stdout",
     "output_type": "stream",
     "text": [
      "Enter the year : 800\n",
      "Leap Year\n"
     ]
    }
   ],
   "source": [
    "year = int(input(\"Enter the year : \"))\n",
    "\n",
    "if year%4 == 0:\n",
    "    if year%100 == 0 and year%400 != 0:\n",
    "        print(\"Not a Leap Year\")\n",
    "    else:\n",
    "        print(\"Leap Year\")\n",
    "else:\n",
    "    print(\"Not a Leap Year\")"
   ]
  }
 ],
 "metadata": {
  "kernelspec": {
   "display_name": "Python 3 (ipykernel)",
   "language": "python",
   "name": "python3"
  },
  "language_info": {
   "codemirror_mode": {
    "name": "ipython",
    "version": 3
   },
   "file_extension": ".py",
   "mimetype": "text/x-python",
   "name": "python",
   "nbconvert_exporter": "python",
   "pygments_lexer": "ipython3",
   "version": "3.9.12"
  }
 },
 "nbformat": 4,
 "nbformat_minor": 5
}
