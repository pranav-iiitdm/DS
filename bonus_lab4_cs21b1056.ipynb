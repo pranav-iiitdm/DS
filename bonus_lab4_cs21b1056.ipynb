{
 "cells": [
  {
   "cell_type": "code",
   "execution_count": 4,
   "id": "f2b40d3d",
   "metadata": {},
   "outputs": [
    {
     "name": "stdout",
     "output_type": "stream",
     "text": [
      "Enter the size of the dixtionary : 5\n",
      "Enter 5 values for list 1 : \n",
      "q\n",
      "w\n",
      "e\n",
      "r\n",
      "t\n",
      "Enter 5 values for list 2 : \n",
      "y\n",
      "1\n",
      "2\n",
      "3\n",
      "4\n",
      "{'q': 'y', 'w': '1', 'e': '2', 'r': '3', 't': '4'}\n"
     ]
    }
   ],
   "source": [
    "n = int(input(\"Enter the size of the dixtionary : \"))\n",
    "\n",
    "l1 = []*n\n",
    "l2 = []*n\n",
    "\n",
    "print(f'Enter {n} values for list 1 : ')\n",
    "for i in range(0, n):\n",
    "    x = input()\n",
    "    l1.append(x)\n",
    "    \n",
    "print(f'Enter {n} values for list 2 : ')\n",
    "for i in range(0, n):\n",
    "    x = input()\n",
    "    l2.append(x)\n",
    "\n",
    "dictionary = {}\n",
    "\n",
    "for i in range(n):\n",
    "    dictionary[l1[i]] = l2[i]\n",
    "print(dictionary)"
   ]
  },
  {
   "cell_type": "code",
   "execution_count": 8,
   "id": "2d38bfd1",
   "metadata": {},
   "outputs": [
    {
     "name": "stdout",
     "output_type": "stream",
     "text": [
      "Enter the size of list 1 : 10\n",
      "Enter the size of list 2 : 5\n",
      "Enter the elements for list 1 :\n",
      "1\n",
      "2\n",
      "3\n",
      "4\n",
      "5\n",
      "6\n",
      "7\n",
      "8\n",
      "9\n",
      "10\n",
      "Enter the elements for list 2 :\n",
      "a\n",
      "b\n",
      "c\n",
      "d\n",
      "e\n",
      "['1', 'a', '2', 'b', '3', 'c', '4', 'd', '5', 'e', '6', '7', '8', '9', '10']\n",
      "['1', '2', '3', '4', '5', '6', '7', '8', '9', '10']\n"
     ]
    }
   ],
   "source": [
    "n1 = int(input('Enter the size of list 1 : '))\n",
    "n2 = int(input('Enter the size of list 2 : '))\n",
    "\n",
    "l1 = []*n1\n",
    "l2 = []*n2\n",
    "l3 = []\n",
    "\n",
    "print('Enter the elements for list 1 :')\n",
    "\n",
    "for i in range(n1):\n",
    "    x = input()\n",
    "    l1.append(x)\n",
    "\n",
    "print('Enter the elements for list 2 :')\n",
    "\n",
    "for i in range(n2):\n",
    "    x = input()\n",
    "    l2.append(x) \n",
    "\n",
    "for i in range(n1+n2):\n",
    "    if i < n1:\n",
    "        l3.append(l1[i])\n",
    "    if i < n2:\n",
    "        l3.append(l2[i])\n",
    "        \n",
    "print(l3)\n",
    "        \n",
    "if n1 < n2:\n",
    "    n = n1\n",
    "    l = l1\n",
    "else:\n",
    "    n = n2\n",
    "    l = l2\n",
    "\n",
    "for i in range(n):\n",
    "    if l[i] in l3:\n",
    "        l3.remove(l[i])\n",
    "print(l3)"
   ]
  }
 ],
 "metadata": {
  "kernelspec": {
   "display_name": "Python 3 (ipykernel)",
   "language": "python",
   "name": "python3"
  },
  "language_info": {
   "codemirror_mode": {
    "name": "ipython",
    "version": 3
   },
   "file_extension": ".py",
   "mimetype": "text/x-python",
   "name": "python",
   "nbconvert_exporter": "python",
   "pygments_lexer": "ipython3",
   "version": "3.9.12"
  }
 },
 "nbformat": 4,
 "nbformat_minor": 5
}
